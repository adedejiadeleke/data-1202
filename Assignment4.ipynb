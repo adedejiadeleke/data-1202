{
 "cells": [
  {
   "cell_type": "code",
   "execution_count": 3,
   "id": "3f7c4b86",
   "metadata": {},
   "outputs": [],
   "source": [
    "import pandas as pd\n",
    "import matplotlib.pyplot as plt"
   ]
  },
  {
   "cell_type": "code",
   "execution_count": 7,
   "id": "ee10172d",
   "metadata": {},
   "outputs": [],
   "source": [
    "pd.set_option('display.max_columns', 50)\n",
    "raw_youtube_data = pd.read_csv('D:/Assignment/1202 SQL/Assignment 4/youtube_dataset.csv')"
   ]
  },
  {
   "cell_type": "code",
   "execution_count": 30,
   "id": "83c6d4c3",
   "metadata": {},
   "outputs": [
    {
     "name": "stdout",
     "output_type": "stream",
     "text": [
      "Entertainment    284\n",
      "Music            240\n",
      "Games            115\n",
      "Comedy            76\n",
      "People            72\n",
      "Howto             49\n",
      "Film              36\n",
      "Education         30\n",
      "Tech              19\n",
      "Sports            17\n",
      "News              17\n",
      "Autos              3\n",
      "Animals            2\n",
      "Travel             1\n",
      "Nonprofit          1\n",
      "Name: channeltype, dtype: int64\n"
     ]
    },
    {
     "data": {
      "image/png": "[encoded data removed]",
      "text/plain": [
       "<Figure size 432x288 with 1 Axes>"
      ]
     },
     "metadata": {
      "needs_background": "light"
     },
     "output_type": "display_data"
    }
   ],
   "source": [
    "first_thousand = raw_youtube_data.iloc[:1000,:]\n",
    "first_thousand\n",
    "\n",
    "def calc_distribution(dataframe, groupfilter):\n",
    "    print(dataframe[groupfilter].value_counts())\n",
    "    dataframe[groupfilter].value_counts().plot(kind='bar')\n",
    "\n",
    "calc_distribution(first_thousand, 'channeltype')\n",
    "\n",
    "first_thousand.to_csv('D:/Assignment/1202 SQL/Assignment 4/Top_1000.csv')"
   ]
  },
  {
   "cell_type": "code",
   "execution_count": null,
   "id": "73bdeb7f",
   "metadata": {},
   "outputs": [],
   "source": []
  }
 ],
 "metadata": {
  "kernelspec": {
   "display_name": "Python 3",
   "language": "python",
   "name": "python3"
  },
  "language_info": {
   "codemirror_mode": {
    "name": "ipython",
    "version": 3
   },
   "file_extension": ".py",
   "mimetype": "text/x-python",
   "name": "python",
   "nbconvert_exporter": "python",
   "pygments_lexer": "ipython3",
   "version": "3.8.8"
  }
 },
 "nbformat": 4,
 "nbformat_minor": 5
}
